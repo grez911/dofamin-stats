{
 "cells": [
  {
   "cell_type": "code",
   "execution_count": 50,
   "metadata": {
    "collapsed": true
   },
   "outputs": [],
   "source": [
    "%matplotlib inline \n",
    "\n",
    "import matplotlib.pyplot as plt\n",
    "import numpy as np"
   ]
  },
  {
   "cell_type": "code",
   "execution_count": 51,
   "metadata": {},
   "outputs": [],
   "source": [
    "def mae(y_pred, y_true):\n",
    "    '''\n",
    "    A mean absolute error.\n",
    "\n",
    "    Input:\n",
    "    y_pred - predicted values;\n",
    "    y_true - true values.\n",
    "\n",
    "    Output a mean absolute error.\n",
    "    '''\n",
    "    return np.abs(y_pred - y_true).mean()"
   ]
  },
  {
   "cell_type": "code",
   "execution_count": 52,
   "metadata": {
    "collapsed": true
   },
   "outputs": [],
   "source": [
    "def dmae(y_pred, y_true):\n",
    "    '''\n",
    "    Derivative of a mean absolute error.\n",
    "\n",
    "    Input:\n",
    "    y_pred - predicted values;\n",
    "    y_true - true values.\n",
    "    \n",
    "    Output derivatives of a mean absolute error.\n",
    "    '''\n",
    "    return (y_pred > y_true) * 2 - 1"
   ]
  },
  {
   "cell_type": "code",
   "execution_count": 57,
   "metadata": {},
   "outputs": [
    {
     "name": "stdout",
     "output_type": "stream",
     "text": [
      "0.525\n"
     ]
    }
   ],
   "source": [
    "x = np.array([0.4, 0.6, 0.2, 1.1])\n",
    "y = np.array([1, 1, 2, 2.3])\n",
    "m = len(x)\n",
    "eps = 10**(-5)\n",
    "a = 2\n",
    "yc = a * x\n",
    "res = mae(yc, y)\n",
    "print(res)"
   ]
  },
  {
   "cell_type": "code",
   "execution_count": 58,
   "metadata": {},
   "outputs": [
    {
     "data": {
      "text/plain": [
       "array([ 0.8,  1.2,  0.4,  2.2])"
      ]
     },
     "execution_count": 58,
     "metadata": {},
     "output_type": "execute_result"
    }
   ],
   "source": [
    "yc"
   ]
  },
  {
   "cell_type": "code",
   "execution_count": 59,
   "metadata": {},
   "outputs": [
    {
     "data": {
      "text/plain": [
       "array([-1,  1, -1, -1])"
      ]
     },
     "execution_count": 59,
     "metadata": {},
     "output_type": "execute_result"
    }
   ],
   "source": [
    "dmae(yc, y)"
   ]
  },
  {
   "cell_type": "code",
   "execution_count": 60,
   "metadata": {},
   "outputs": [
    {
     "name": "stdout",
     "output_type": "stream",
     "text": [
      "-0.275000000005\n",
      "-0.275\n"
     ]
    }
   ],
   "source": [
    "aplus = a + eps\n",
    "aminus = a - eps\n",
    "resplus = mae(aplus * x, y)\n",
    "resminus = mae(aminus * x, y)\n",
    "da = (resplus - resminus) / (2 * eps)\n",
    "print(da)\n",
    "yc = a * x\n",
    "da = np.sum(1/m * dmae(yc, y) * x)\n",
    "print(da)"
   ]
  },
  {
   "cell_type": "code",
   "execution_count": null,
   "metadata": {
    "collapsed": true
   },
   "outputs": [],
   "source": []
  }
 ],
 "metadata": {
  "kernelspec": {
   "display_name": "Python 3",
   "language": "python",
   "name": "python3"
  },
  "language_info": {
   "codemirror_mode": {
    "name": "ipython",
    "version": 3
   },
   "file_extension": ".py",
   "mimetype": "text/x-python",
   "name": "python",
   "nbconvert_exporter": "python",
   "pygments_lexer": "ipython3",
   "version": "3.6.3"
  }
 },
 "nbformat": 4,
 "nbformat_minor": 2
}
