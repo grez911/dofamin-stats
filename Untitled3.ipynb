{
 "cells": [
  {
   "cell_type": "code",
   "execution_count": 132,
   "metadata": {
    "collapsed": true
   },
   "outputs": [],
   "source": [
    "%matplotlib inline \n",
    "\n",
    "import requests\n",
    "import pickle\n",
    "import matplotlib.pyplot as plt\n",
    "import numpy as np\n",
    "from bs4 import BeautifulSoup"
   ]
  },
  {
   "cell_type": "code",
   "execution_count": 133,
   "metadata": {
    "collapsed": true
   },
   "outputs": [],
   "source": [
    "def prepare(data):\n",
    "  '''\n",
    "  Make lists for x and y axis for plotting.\n",
    "\n",
    "  Input:\n",
    "  data - dictionary with days as keys and values as number of people.\n",
    "\n",
    "  Output:\n",
    "  x - numpy array with values for x axis;\n",
    "  y - numpy array with values for y axis.\n",
    "  '''\n",
    "  x = []\n",
    "  y = []\n",
    "  for day in range(0, max(data) + 1):\n",
    "    x.append(day)\n",
    "    if day in data:\n",
    "      y.append(data[day])\n",
    "    else:\n",
    "      y.append(0)\n",
    "  # Add half a day because on the sitedisplayed floor values,\n",
    "  # e.g. \"2 days\" means time between 2 and 3 days, so we are\n",
    "  # taking an average.\n",
    "  x = np.array(x) + 0.5\n",
    "  y = np.array(y)\n",
    "  y = y / np.sum(y)\n",
    "  return x, y"
   ]
  },
  {
   "cell_type": "code",
   "execution_count": 134,
   "metadata": {},
   "outputs": [],
   "source": [
    "def fill_gaps(y):\n",
    "  '''\n",
    "  Replace zeros in `y` with mean values. E.g.\n",
    "  [8, 4, 0, 2, 0, 0, 0, 1] will become\n",
    "  [8, 4, 1, 1, 0.25, 0.25, 0.25, 0.25].\n",
    "  \n",
    "  Input:\n",
    "  y - array with zeros.\n",
    "  \n",
    "  Output:\n",
    "  y - array without zeros.\n",
    "  '''\n",
    "  last_nonzero = len(y) - 1\n",
    "  counter = 1\n",
    "  for i in reversed(range(len(y))):\n",
    "    if y[i] != 0:\n",
    "      y[i+1:last_nonzero+1] = y[last_nonzero] / counter\n",
    "      counter = 1\n",
    "      last_nonzero = i\n",
    "    else:\n",
    "      counter += 1\n",
    "  return(y)"
   ]
  },
  {
   "cell_type": "code",
   "execution_count": 138,
   "metadata": {},
   "outputs": [],
   "source": [
    "def plot(x, y):\n",
    "  '''\n",
    "  Draw plot.\n",
    "\n",
    "  Outputs nothing.\n",
    "  '''\n",
    "  fig, ax = plt.subplots()\n",
    "  y = fill_gaps(y)\n",
    "  y = np.log(y)\n",
    "  ax.semilogx(x, y, 'b.')\n",
    "  #ax.plot(x, y, 'b.')\n",
    "  #ax.loglog(x, y, 'b.')\n",
    "  plt.title(\"Nofap time distribution\")\n",
    "  plt.xlabel(\"nofap time (days)\")\n",
    "  plt.ylabel(\"proportion of people\")\n",
    "  ax.grid()\n",
    "  plt.legend()\n",
    "  plt.show()"
   ]
  },
  {
   "cell_type": "code",
   "execution_count": 139,
   "metadata": {},
   "outputs": [
    {
     "data": {
      "image/png": "[encoded data removed]",
      "text/plain": [
       "<matplotlib.figure.Figure at 0x7f70119427b8>"
      ]
     },
     "metadata": {},
     "output_type": "display_data"
    }
   ],
   "source": [
    "plt.rcParams['figure.figsize'] = [15, 8]\n",
    "data = pickle.load(open(\"data.p\", \"rb\" ))\n",
    "x, y = prepare(data)\n",
    "plot(x, y)"
   ]
  },
  {
   "cell_type": "code",
   "execution_count": null,
   "metadata": {
    "collapsed": true
   },
   "outputs": [],
   "source": []
  }
 ],
 "metadata": {
  "kernelspec": {
   "display_name": "Python 3",
   "language": "python",
   "name": "python3"
  },
  "language_info": {
   "codemirror_mode": {
    "name": "ipython",
    "version": 3
   },
   "file_extension": ".py",
   "mimetype": "text/x-python",
   "name": "python",
   "nbconvert_exporter": "python",
   "pygments_lexer": "ipython3",
   "version": "3.6.3"
  }
 },
 "nbformat": 4,
 "nbformat_minor": 2
}
