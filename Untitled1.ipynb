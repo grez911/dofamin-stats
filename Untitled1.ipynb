{
 "cells": [
  {
   "cell_type": "code",
   "execution_count": 1,
   "metadata": {},
   "outputs": [],
   "source": [
    "%matplotlib inline \n",
    "\n",
    "import matplotlib.pyplot as plt\n",
    "import numpy as np"
   ]
  },
  {
   "cell_type": "code",
   "execution_count": 2,
   "metadata": {},
   "outputs": [],
   "source": [
    "def mse(y1, y2):\n",
    "  '''\n",
    "  Mean square error.\n",
    "\n",
    "  Input:\n",
    "  y1 - first numpy array;\n",
    "  y2 - second numpy array.\n",
    "\n",
    "  Output a mean square error.\n",
    "  '''\n",
    "  return ((y1 - y2) ** 2).mean()"
   ]
  },
  {
   "cell_type": "code",
   "execution_count": null,
   "metadata": {},
   "outputs": [],
   "source": [
    "x = np.array([0.1, 0.2, 0.3, 0.4])\n",
    "y = np.array([650, 1000, 1500, 2200])\n",
    "m = len(x)\n",
    "eps = 10**(-5)\n",
    "a = 3\n",
    "b = 4\n",
    "c = 5\n",
    "d = 6\n",
    "e = 7\n",
    "res = mse(a * np.exp((b * x + c) * x + d) + e, y)"
   ]
  },
  {
   "cell_type": "code",
   "execution_count": null,
   "metadata": {},
   "outputs": [],
   "source": []
  }
 ],
 "metadata": {
  "kernelspec": {
   "display_name": "Python 3",
   "language": "python",
   "name": "python3"
  },
  "language_info": {
   "codemirror_mode": {
    "name": "ipython",
    "version": 3
   },
   "file_extension": ".py",
   "mimetype": "text/x-python",
   "name": "python",
   "nbconvert_exporter": "python",
   "pygments_lexer": "ipython3",
   "version": "3.6.4"
  }
 },
 "nbformat": 4,
 "nbformat_minor": 2
}
