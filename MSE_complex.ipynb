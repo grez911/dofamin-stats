{
 "cells": [
  {
   "cell_type": "code",
   "execution_count": 17,
   "metadata": {
    "collapsed": true
   },
   "outputs": [],
   "source": [
    "%matplotlib inline \n",
    "\n",
    "import matplotlib.pyplot as plt\n",
    "import numpy as np"
   ]
  },
  {
   "cell_type": "code",
   "execution_count": 18,
   "metadata": {
    "collapsed": true
   },
   "outputs": [],
   "source": [
    "def mse(y1, y2):\n",
    "  '''\n",
    "  Mean square error.\n",
    "\n",
    "  Input:\n",
    "  y1 - first numpy array;\n",
    "  y2 - second numpy array.\n",
    "\n",
    "  Output a mean square error.\n",
    "  '''\n",
    "  return ((y1 - y2) ** 2).mean()"
   ]
  },
  {
   "cell_type": "code",
   "execution_count": 20,
   "metadata": {},
   "outputs": [
    {
     "name": "stdout",
     "output_type": "stream",
     "text": [
      "1057489.54575\n"
     ]
    }
   ],
   "source": [
    "x = np.array([0.1, 0.2, 0.3, 0.4])\n",
    "y = np.array([650, 1000, 1500, 2200])\n",
    "m = len(x)\n",
    "eps = 10**(-5)\n",
    "a = 2\n",
    "b = 2.2\n",
    "c = 2.4\n",
    "d = 2.6\n",
    "h = 2.8\n",
    "k = 3\n",
    "yc = a * np.exp((b * np.exp(c * x) + d) * x + h) + k\n",
    "res = mse(yc, y)\n",
    "print(res)"
   ]
  },
  {
   "cell_type": "code",
   "execution_count": 21,
   "metadata": {},
   "outputs": [
    {
     "name": "stdout",
     "output_type": "stream",
     "text": [
      "-412331.319856\n",
      "-412331.319852\n"
     ]
    }
   ],
   "source": [
    "aplus = a + eps\n",
    "aminus = a - eps\n",
    "resplus = mse(aplus * np.exp((b * np.exp(c * x) + d) * x + h) + k, y)\n",
    "resminus = mse(aminus * np.exp((b * np.exp(c * x) + d) * x + h) + k, y)\n",
    "da = (resplus - resminus) / (2 * eps)\n",
    "print(da)\n",
    "yc = a * np.exp((b * np.exp(c * x) + d) * x + h) + k\n",
    "da = np.sum(2/m * (yc - y) * np.exp(x * (b * np.exp(c * x) + d) +h))\n",
    "print(da)"
   ]
  },
  {
   "cell_type": "code",
   "execution_count": 22,
   "metadata": {},
   "outputs": [
    {
     "name": "stdout",
     "output_type": "stream",
     "text": [
      "-737624.770496\n",
      "-737624.770507\n"
     ]
    }
   ],
   "source": [
    "bplus = b + eps\n",
    "bminus = b - eps\n",
    "resplus = mse(a * np.exp((bplus * np.exp(c * x) + d) * x + h) + k, y)\n",
    "resminus = mse(a * np.exp((bminus * np.exp(c * x) + d) * x + h) + k, y)\n",
    "db = (resplus - resminus) / (2 * eps)\n",
    "print(db)\n",
    "yc = a * np.exp((b * np.exp(c * x) + d) * x + h) + k\n",
    "db = np.sum(2/m * (yc - y) * a * x * np.exp(x * (b * np.exp(c * x) + d) + c * x + h))\n",
    "print(db)"
   ]
  },
  {
   "cell_type": "code",
   "execution_count": 23,
   "metadata": {},
   "outputs": [
    {
     "name": "stdout",
     "output_type": "stream",
     "text": [
      "-617627.815669\n",
      "-617627.815652\n"
     ]
    }
   ],
   "source": [
    "cplus = c + eps\n",
    "cminus = c - eps\n",
    "resplus = mse(a * np.exp((b * np.exp(cplus * x) + d) * x + h) + k, y)\n",
    "resminus = mse(a * np.exp((b * np.exp(cminus * x) + d) * x + h) + k, y)\n",
    "dc = (resplus - resminus) / (2 * eps)\n",
    "print(dc)\n",
    "yc = a * np.exp((b * np.exp(c * x) + d) * x + h) + k\n",
    "dc = np.sum(2/m * (yc - y) * a * b * x**2 * np.exp(x * (b * np.exp(c * x) + d) + c * x + h))\n",
    "print(dc)"
   ]
  },
  {
   "cell_type": "code",
   "execution_count": 24,
   "metadata": {},
   "outputs": [
    {
     "name": "stdout",
     "output_type": "stream",
     "text": [
      "-297942.256427\n",
      "-297942.256423\n"
     ]
    }
   ],
   "source": [
    "dplus = d + eps\n",
    "dminus = d - eps\n",
    "resplus = mse(a * np.exp((b * np.exp(c * x) + dplus) * x + h) + k, y)\n",
    "resminus = mse(a * np.exp((b * np.exp(c * x) + dminus) * x + h) + k, y)\n",
    "dd = (resplus - resminus) / (2 * eps)\n",
    "print(dd)\n",
    "yc = a * np.exp((b * np.exp(c * x) + d) * x + h) + k\n",
    "dd = np.sum(2/m * (yc - y) * a * x * np.exp(x * (b * np.exp(c * x) + d) + h))\n",
    "print(dd)"
   ]
  },
  {
   "cell_type": "code",
   "execution_count": 27,
   "metadata": {},
   "outputs": [
    {
     "name": "stdout",
     "output_type": "stream",
     "text": [
      "-824662.639701\n",
      "-824662.639704\n"
     ]
    }
   ],
   "source": [
    "hplus = h + eps\n",
    "hminus= h - eps\n",
    "resplus = mse(a * np.exp((b * np.exp(c * x) + d) * x + hplus) + k, y)\n",
    "resminus = mse(a * np.exp((b * np.exp(c * x) + d) * x + hminus) + k, y)\n",
    "dh = (resplus - resminus) / (2 * eps)\n",
    "print(dh)\n",
    "yc = a * np.exp((b * np.exp(c * x) + d) * x + h) + k\n",
    "dh = np.sum(2/m * (yc - y) * a * np.exp(x * (b * np.exp(c * x) + d) + h))\n",
    "print(dh)"
   ]
  },
  {
   "cell_type": "code",
   "execution_count": 28,
   "metadata": {},
   "outputs": [
    {
     "name": "stdout",
     "output_type": "stream",
     "text": [
      "-1982.00473096\n",
      "-1982.00471965\n"
     ]
    }
   ],
   "source": [
    "kplus = k + eps\n",
    "kminus= k - eps\n",
    "resplus = mse(a * np.exp((b * np.exp(c * x) + d) * x + h) + kplus, y)\n",
    "resminus = mse(a * np.exp((b * np.exp(c * x) + d) * x + h) + kminus, y)\n",
    "dk = (resplus - resminus) / (2 * eps)\n",
    "print(dk)\n",
    "yc = a * np.exp((b * np.exp(c * x) + d) * x + h) + k\n",
    "dk = np.sum(2/m * (yc - y))\n",
    "print(dk)"
   ]
  },
  {
   "cell_type": "code",
   "execution_count": null,
   "metadata": {
    "collapsed": true
   },
   "outputs": [],
   "source": []
  }
 ],
 "metadata": {
  "kernelspec": {
   "display_name": "Python 3",
   "language": "python",
   "name": "python3"
  },
  "language_info": {
   "codemirror_mode": {
    "name": "ipython",
    "version": 3
   },
   "file_extension": ".py",
   "mimetype": "text/x-python",
   "name": "python",
   "nbconvert_exporter": "python",
   "pygments_lexer": "ipython3",
   "version": "3.6.3"
  }
 },
 "nbformat": 4,
 "nbformat_minor": 2
}
