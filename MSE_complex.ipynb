{
 "cells": [
  {
   "cell_type": "code",
   "execution_count": 7,
   "metadata": {
    "collapsed": true
   },
   "outputs": [],
   "source": [
    "%matplotlib inline \n",
    "\n",
    "import matplotlib.pyplot as plt\n",
    "import numpy as np"
   ]
  },
  {
   "cell_type": "code",
   "execution_count": 8,
   "metadata": {
    "collapsed": true
   },
   "outputs": [],
   "source": [
    "def mse(y1, y2):\n",
    "  '''\n",
    "  Mean square error.\n",
    "\n",
    "  Input:\n",
    "  y1 - first numpy array;\n",
    "  y2 - second numpy array.\n",
    "\n",
    "  Output a mean square error.\n",
    "  '''\n",
    "  return ((y1 - y2) ** 2).mean()"
   ]
  },
  {
   "cell_type": "code",
   "execution_count": 9,
   "metadata": {},
   "outputs": [
    {
     "name": "stdout",
     "output_type": "stream",
     "text": [
      "40447743.4867\n"
     ]
    }
   ],
   "source": [
    "x = np.array([0.1, 0.2, 0.3, 0.4])\n",
    "y = np.array([650, 1000, 1500, 2200])\n",
    "m = len(x)\n",
    "eps = 10**(-5)\n",
    "a = 1.2\n",
    "b = 1.4\n",
    "c = 1.6\n",
    "d = 1.8\n",
    "h = 2\n",
    "k = 2.2\n",
    "p = 2.4\n",
    "yc = a * np.exp((b * np.exp(c * x + d) + h) * x + k) + p\n",
    "res = mse(yc, y)\n",
    "print(res)"
   ]
  },
  {
   "cell_type": "code",
   "execution_count": 10,
   "metadata": {},
   "outputs": [
    {
     "name": "stdout",
     "output_type": "stream",
     "text": [
      "78320859.6017\n",
      "78320859.6013\n"
     ]
    }
   ],
   "source": [
    "aplus = a + eps\n",
    "aminus = a - eps\n",
    "resplus = mse(aplus * np.exp((b * np.exp(c * x + d) + h) * x + k) + p, y)\n",
    "resminus = mse(aminus * np.exp((b * np.exp(c * x + d) + h) * x + k) + p, y)\n",
    "da = (resplus - resminus) / (2 * eps)\n",
    "print(da)\n",
    "yc = a * np.exp((b * np.exp(c * x + d) + h) * x + k) + p\n",
    "da = np.sum(2/m * (yc - y) * np.exp(x * (b * np.exp(c * x + d) + h) + k))\n",
    "print(da)"
   ]
  },
  {
   "cell_type": "code",
   "execution_count": 11,
   "metadata": {},
   "outputs": [
    {
     "name": "stdout",
     "output_type": "stream",
     "text": [
      "431859418.096\n",
      "431859417.41\n"
     ]
    }
   ],
   "source": [
    "bplus = b + eps\n",
    "bminus = b - eps\n",
    "resplus = mse(a * np.exp((bplus * np.exp(c * x + d) + h) * x + k) + p, y)\n",
    "resminus = mse(a * np.exp((bminus * np.exp(c * x + d) + h) * x + k) + p, y)\n",
    "db = (resplus - resminus) / (2 * eps)\n",
    "print(db)\n",
    "yc = a * np.exp((b * np.exp(c * x + d) + h) * x + k) + p\n",
    "db = np.sum(2/m * (yc - y) * a * x * np.exp(x * (b * np.exp(c * x + d) + h) + c * x + d + k))\n",
    "print(db)"
   ]
  },
  {
   "cell_type": "code",
   "execution_count": 12,
   "metadata": {},
   "outputs": [
    {
     "name": "stdout",
     "output_type": "stream",
     "text": [
      "241950478.778\n",
      "241950478.621\n"
     ]
    }
   ],
   "source": [
    "cplus = c + eps\n",
    "cminus = c - eps\n",
    "resplus = mse(a * np.exp((b * np.exp(cplus * x + d) + h) * x + k) + p, y)\n",
    "resminus = mse(a * np.exp((b * np.exp(cminus * x + d) + h) * x + k) + p, y)\n",
    "dc = (resplus - resminus) / (2 * eps)\n",
    "print(dc)\n",
    "yc = a * np.exp((b * np.exp(c * x + d) + h) * x + k) + p\n",
    "dc = np.sum(2/m * (yc - y) * a * b * x**2 * np.exp(x * (b * np.exp(c * x + d) + h) + c * x + d + k))\n",
    "print(dc)"
   ]
  },
  {
   "cell_type": "code",
   "execution_count": 13,
   "metadata": {},
   "outputs": [
    {
     "name": "stdout",
     "output_type": "stream",
     "text": [
      "604603186.685\n",
      "604603184.374\n"
     ]
    }
   ],
   "source": [
    "dplus = d + eps\n",
    "dminus = d - eps\n",
    "resplus = mse(a * np.exp((b * np.exp(c * x + dplus) + h) * x + k) + p, y)\n",
    "resminus = mse(a * np.exp((b * np.exp(c * x + dminus) + h) * x + k) + p, y)\n",
    "dd = (resplus - resminus) / (2 * eps)\n",
    "print(dd)\n",
    "yc = a * np.exp((b * np.exp(c * x + d) + h) * x + k) + p\n",
    "dd = np.sum(2/m * (yc - y) * a * b * x * np.exp(x * (b * np.exp(c * x + d) + h) + c * x + d + k))\n",
    "print(dd)"
   ]
  },
  {
   "cell_type": "code",
   "execution_count": 14,
   "metadata": {},
   "outputs": [
    {
     "name": "stdout",
     "output_type": "stream",
     "text": [
      "37629070.6232\n",
      "37629070.6258\n"
     ]
    }
   ],
   "source": [
    "hplus = h + eps\n",
    "hminus= h - eps\n",
    "resplus = mse(a * np.exp((b * np.exp(c * x + d) + hplus) * x + k) + p, y)\n",
    "resminus = mse(a * np.exp((b * np.exp(c * x + d) + hminus) * x + k) + p, y)\n",
    "dh = (resplus - resminus) / (2 * eps)\n",
    "print(dh)\n",
    "yc = a * np.exp((b * np.exp(c * x + d) + h) * x + k) + p\n",
    "dh = np.sum(2/m * (yc - y) * a * x * np.exp(x * (b * np.exp(c * x + d) + h) + k))\n",
    "print(dh)"
   ]
  },
  {
   "cell_type": "code",
   "execution_count": 15,
   "metadata": {},
   "outputs": [
    {
     "name": "stdout",
     "output_type": "stream",
     "text": [
      "93985031.5332\n",
      "93985031.5215\n"
     ]
    }
   ],
   "source": [
    "kplus = k + eps\n",
    "kminus= k - eps\n",
    "resplus = mse(a * np.exp((b * np.exp(c * x + d) + h) * x + kplus) + p, y)\n",
    "resminus = mse(a * np.exp((b * np.exp(c * x + d) + h) * x + kminus) + p, y)\n",
    "dk = (resplus - resminus) / (2 * eps)\n",
    "print(dk)\n",
    "yc = a * np.exp((b * np.exp(c * x + d) + h) * x + k) + p\n",
    "dk = np.sum(2/m * (yc - y) * a * np.exp(x * (b * np.exp(c * x + d) + h) + k))\n",
    "print(dk)"
   ]
  },
  {
   "cell_type": "code",
   "execution_count": 16,
   "metadata": {},
   "outputs": [
    {
     "name": "stdout",
     "output_type": "stream",
     "text": [
      "5465.91095626\n",
      "5465.9110091\n"
     ]
    }
   ],
   "source": [
    "pplus = p + eps\n",
    "pminus= p - eps\n",
    "resplus = mse(a * np.exp((b * np.exp(c * x + d) + h) * x + k) + pplus, y)\n",
    "resminus = mse(a * np.exp((b * np.exp(c * x + d) + h) * x + k) + pminus, y)\n",
    "dp = (resplus - resminus) / (2 * eps)\n",
    "print(dp)\n",
    "yc = a * np.exp((b * np.exp(c * x + d) + h) * x + k) + p\n",
    "dp = np.sum(2/m * (yc - y))\n",
    "print(dp)"
   ]
  },
  {
   "cell_type": "code",
   "execution_count": null,
   "metadata": {
    "collapsed": true
   },
   "outputs": [],
   "source": []
  }
 ],
 "metadata": {
  "kernelspec": {
   "display_name": "Python 3",
   "language": "python",
   "name": "python3"
  },
  "language_info": {
   "codemirror_mode": {
    "name": "ipython",
    "version": 3
   },
   "file_extension": ".py",
   "mimetype": "text/x-python",
   "name": "python",
   "nbconvert_exporter": "python",
   "pygments_lexer": "ipython3",
   "version": "3.6.3"
  }
 },
 "nbformat": 4,
 "nbformat_minor": 2
}
